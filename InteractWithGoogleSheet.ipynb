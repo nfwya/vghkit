{
 "cells": [
  {
   "cell_type": "code",
   "execution_count": 81,
   "metadata": {},
   "outputs": [],
   "source": [
    "from reportlab.pdfgen import canvas\n",
    "from reportlab.lib.pagesizes import A4\n",
    "from reportlab.platypus import PageTemplate\n",
    "\n",
    "from reportlab.pdfbase import pdfmetrics\n",
    "from reportlab.pdfbase.ttfonts import TTFont\n",
    "\n",
    "import logging"
   ]
  },
  {
   "cell_type": "code",
   "execution_count": 82,
   "metadata": {},
   "outputs": [],
   "source": [
    "logging.basicConfig(level=logging.INFO, filename='log.txt',\n",
    "\tformat='[%(asctime)s %(levelname)-8s] %(message)s',\n",
    "\tdatefmt='%Y%m%d %H:%M:%S',\n",
    "\t)"
   ]
  },
  {
   "cell_type": "code",
   "execution_count": 83,
   "metadata": {},
   "outputs": [],
   "source": [
    "class Operation:\n",
    "    def __init__(self,MRN,name,diagnosis,procedure):\n",
    "        self.MRN = MRN\n",
    "        self.name = name\n",
    "        self.diagnosis = diagnosis\n",
    "        self.procedure = procedure\n",
    "    def __str__(self):\n",
    "        return f\"MRN:{self.MRN},name{self.name}, dx:{self.diagnosis}, proc:{self.procedure}\""
   ]
  },
  {
   "cell_type": "code",
   "execution_count": 84,
   "metadata": {},
   "outputs": [],
   "source": [
    "orders = [\n",
    "    [\"Alcaine * 6\"],\n",
    "    [\"Pheylephrine * 6\"],\n",
    "    [\"Mydriacyl * 6\"]\n",
    "]"
   ]
  },
  {
   "cell_type": "code",
   "execution_count": 85,
   "metadata": {},
   "outputs": [
    {
     "name": "stdout",
     "output_type": "stream",
     "text": [
      "MRN:123,nameJohn, dx:cata OD, proc:Phaco-IOL OD\n"
     ]
    }
   ],
   "source": [
    "mock_operations = [Operation(\"123\",\"John\",\"cata OD\",\"Phaco-IOL OD\")]\n",
    "print(mock_operations[0])"
   ]
  },
  {
   "cell_type": "code",
   "execution_count": 86,
   "metadata": {},
   "outputs": [],
   "source": [
    "width, height = A4\n",
    "for i in range(len(mock_operations)):\n",
    "    pdfmetrics.registerFont(TTFont('msj', 'msjhbd.ttc'))\n",
    "    operation = mock_operations[i]\n",
    "    new_doc_path = f\"pt{i+1}.pdf\"\n",
    "    new_doc = canvas.Canvas(new_doc_path,pagesize=A4)\n",
    "    new_doc.setFont('msj',20)\n",
    "    \n",
    "    x_offset = 50\n",
    "    y_offset = 50\n",
    "    padding = 15\n",
    "    \n",
    "    new_doc.drawString(x_offset, height - y_offset, f\"病歷號:{operation.MRN}\")\n",
    "    for k in range(len(orders)):\n",
    "        new_doc.drawString(x_offset, height - (k+2)*y_offset, orders[k][0])\n",
    "        \n",
    "    new_doc.showPage()\n",
    "    new_doc.save()"
   ]
  }
 ],
 "metadata": {
  "kernelspec": {
   "display_name": "vghkit",
   "language": "python",
   "name": "python3"
  },
  "language_info": {
   "codemirror_mode": {
    "name": "ipython",
    "version": 3
   },
   "file_extension": ".py",
   "mimetype": "text/x-python",
   "name": "python",
   "nbconvert_exporter": "python",
   "pygments_lexer": "ipython3",
   "version": "3.11.3"
  },
  "orig_nbformat": 4
 },
 "nbformat": 4,
 "nbformat_minor": 2
}
