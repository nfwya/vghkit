{
 "cells": [
  {
   "cell_type": "code",
   "execution_count": 76,
   "metadata": {},
   "outputs": [],
   "source": [
    "from reportlab.pdfgen import canvas\n",
    "from reportlab.lib.pagesizes import A4\n",
    "from reportlab.platypus import PageTemplate, PageBreak, SimpleDocTemplate\n",
    "\n",
    "\n",
    "from reportlab.pdfbase import pdfmetrics\n",
    "from reportlab.pdfbase.ttfonts import TTFont\n",
    "\n",
    "import logging\n",
    "import pandas as pd\n",
    "from pathlib import Path\n",
    "\n",
    "from pypdf import PdfMerger\n",
    "\n",
    "doc = '6453'"
   ]
  },
  {
   "cell_type": "code",
   "execution_count": 77,
   "metadata": {},
   "outputs": [],
   "source": [
    "def process_OPList(data):\n",
    "    data['date_AC'] = data['date'].astype(int)\n",
    "    data['date_AC'] = 19110000 + data['date_AC']\n",
    "    data['date_AC'] = pd.to_datetime(data['date_AC'],\n",
    "                                    format='%Y%m%d')\n",
    "    data['Diagnosis'] = [st.replace('術前診斷:','') for st in data['Diagnosis']]\n",
    "    data['Procedure'] = [st.replace('手術名稱:','') for st in data['Procedure']]\n",
    "    data['IOL'] = [st.replace('手術室資訊:','') for st in data['OR info']]\n",
    "    data['Anes'] = [st.replace('麻醉:','' ) for st in data['Anes']]\n",
    "    return data.drop(columns=['change','OR info'])"
   ]
  },
  {
   "cell_type": "code",
   "execution_count": 78,
   "metadata": {},
   "outputs": [],
   "source": [
    "logging.basicConfig(level=logging.INFO, filename='log.txt',\n",
    "\tformat='[%(asctime)s %(levelname)-8s] %(message)s',\n",
    "\tdatefmt='%Y%m%d %H:%M:%S',\n",
    "\t)"
   ]
  },
  {
   "cell_type": "code",
   "execution_count": 79,
   "metadata": {},
   "outputs": [],
   "source": [
    "class Operation:\n",
    "    def __init__(self,MRN,name,diagnosis,procedure,IOL):\n",
    "        self.MRN = MRN\n",
    "        self.name = name\n",
    "        self.diagnosis = diagnosis.strip()\n",
    "        self.procedure = procedure\n",
    "        self.IOL = IOL\n",
    "    def __str__(self):\n",
    "        return f\"MRN:{self.MRN},name{self.name}, dx:{self.diagnosis}, proc:{self.procedure}\""
   ]
  },
  {
   "cell_type": "code",
   "execution_count": 80,
   "metadata": {},
   "outputs": [],
   "source": [
    "orders = [\n",
    "    [\"不剪睫毛\"],\n",
    "    [\"Check Vital signs and Red eye\"],\n",
    "    [\"Alcaine * 6\"],\n",
    "    [\"Pheylephrine * 6\"],\n",
    "    [\"Mydriacyl * 6\"],\n",
    "    [\"Valium * 1\"],\n",
    "    [\"Diamox * 1\"],\n",
    "    [f'開立醫師:{doc}'],\n",
    "    ['執行護理師']\n",
    "]"
   ]
  },
  {
   "cell_type": "code",
   "execution_count": 81,
   "metadata": {},
   "outputs": [
    {
     "name": "stdout",
     "output_type": "stream",
     "text": [
      "MRN:30282316,name張心亭, dx:CATA OD [全自費!!], proc: LENSX-PHACO-IOL OD, IVGA, [ICB ori+17.0] \n",
      "MRN:17377423,name洪仁道, dx:CATA OD, proc: PHACO-IOL OD [RAO600C Ori+10.5] \n",
      "MRN:48357842,name林張信子, dx:CATA OD, proc: PHACO-IOL OD [ICB Ori+20.0] \n",
      "MRN:24621849,name王明發, dx:CATA OD, proc: PHACO-IOL OD [AAB ori+10.0] \n",
      "MRN:29948376,name楊旭平, dx:CATA OS, proc: PHACO-IOL OS [ICB Ori+8.5] \n",
      "MRN:11911470,name關林阿女, dx:CATA OD, proc: PHACO-IOL OD \n"
     ]
    }
   ],
   "source": [
    "OP_list = pd.read_csv('OPList.csv')\n",
    "OP_procecced = process_OPList(OP_list)\n",
    "OP_today_df = OP_procecced.query(\"date_AC == '2023-05-01'\")\n",
    "OP_today_df\n",
    "OP_today = []\n",
    "for index, operation in OP_today_df.iterrows():\n",
    "    OP_today.append(Operation(operation['MRN'],\n",
    "                              operation['name'],\n",
    "                              operation['Diagnosis'],\n",
    "                              operation['Procedure'],\n",
    "                              operation['IOL']))\n",
    "for operation in OP_today:\n",
    "    print(operation)"
   ]
  },
  {
   "cell_type": "code",
   "execution_count": 83,
   "metadata": {},
   "outputs": [
    {
     "ename": "NameError",
     "evalue": "name 'Story' is not defined",
     "output_type": "error",
     "traceback": [
      "\u001b[1;31m---------------------------------------------------------------------------\u001b[0m",
      "\u001b[1;31mNameError\u001b[0m                                 Traceback (most recent call last)",
      "Cell \u001b[1;32mIn[83], line 23\u001b[0m\n\u001b[0;32m     21\u001b[0m     \u001b[39mfor\u001b[39;00m k \u001b[39min\u001b[39;00m \u001b[39mrange\u001b[39m(\u001b[39mlen\u001b[39m(orders)):\n\u001b[0;32m     22\u001b[0m         new_doc\u001b[39m.\u001b[39mdrawString(x_offset, height \u001b[39m-\u001b[39m (k\u001b[39m+\u001b[39m\u001b[39m5\u001b[39m)\u001b[39m*\u001b[39my_offset, orders[k][\u001b[39m0\u001b[39m])\n\u001b[1;32m---> 23\u001b[0m     Story\u001b[39m.\u001b[39mappend(PageBreak())        \n\u001b[0;32m     24\u001b[0m new_doc\u001b[39m.\u001b[39mshowPage()\n\u001b[0;32m     25\u001b[0m new_doc\u001b[39m.\u001b[39msave()\n",
      "\u001b[1;31mNameError\u001b[0m: name 'Story' is not defined"
     ]
    }
   ],
   "source": [
    "width, height = A4\n",
    "pdfmetrics.registerFont(TTFont('msj', 'msjhbd.ttc'))\n",
    "new_doc_path = \"preOPorderPDFs/result.pdf\"\n",
    "new_doc = SimpleDocTemplate(new_doc_path)\n",
    "x_offset = 50\n",
    "y_offset = 50\n",
    "padding = 15\n",
    "\n",
    "\n",
    "for i in range(len(OP_today)):\n",
    "    new_page.setFont('msj',20)\n",
    "    operation = OP_today[i]\n",
    "    new_page = canvas.Canvas(new_doc_path,pagesize=A4)\n",
    "    new_page.drawString(x_offset, height - y_offset, f\"病歷號:{operation.MRN},姓名:{operation.name}\")\n",
    "    new_page.drawString(x_offset, height - y_offset * 2,\n",
    "                       f\"診斷:{operation.diagnosis}\")\n",
    "    new_page.drawString(x_offset, height - y_offset * 3,\n",
    "                       f\"術式:{operation.procedure}\")\n",
    "    new_page.drawString(\n",
    "        x_offset, height - y_offset * 4,\n",
    "        f'IOL:{operation.IOL}'\n",
    "    )\n",
    "    for k in range(len(orders)):\n",
    "        new_page.drawString(x_offset, height - (k+5)*y_offset, orders[k][0])\n",
    "    Story.append(PageBreak())        \n",
    "new_doc.showPage()\n",
    "new_doc.save()\n"
   ]
  },
  {
   "cell_type": "code",
   "execution_count": null,
   "metadata": {},
   "outputs": [
    {
     "ename": "UnicodeDecodeError",
     "evalue": "'utf-8' codec can't decode byte 0x93 in position 10: invalid start byte",
     "output_type": "error",
     "traceback": [
      "\u001b[1;31m---------------------------------------------------------------------------\u001b[0m",
      "\u001b[1;31mUnicodeDecodeError\u001b[0m                        Traceback (most recent call last)",
      "Cell \u001b[1;32mIn[75], line 8\u001b[0m\n\u001b[0;32m      6\u001b[0m \u001b[39mfor\u001b[39;00m pdf_path \u001b[39min\u001b[39;00m pdf_paths:\n\u001b[0;32m      7\u001b[0m     \u001b[39mwith\u001b[39;00m pdf_path\u001b[39m.\u001b[39mopen() \u001b[39mas\u001b[39;00m pdf_file:\n\u001b[1;32m----> 8\u001b[0m         merger\u001b[39m.\u001b[39;49mappend(pdf_file)\n\u001b[0;32m      9\u001b[0m merger\u001b[39m.\u001b[39mwrite(\u001b[39m'\u001b[39m\u001b[39mresult.pdf\u001b[39m\u001b[39m'\u001b[39m)\n\u001b[0;32m     10\u001b[0m merger\u001b[39m.\u001b[39mclose()\n",
      "File \u001b[1;32mc:\\Users\\nfwya\\.conda\\envs\\vghkit\\Lib\\site-packages\\pypdf\\_utils.py:442\u001b[0m, in \u001b[0;36mdeprecation_bookmark.<locals>.decoration.<locals>.wrapper\u001b[1;34m(*args, **kwargs)\u001b[0m\n\u001b[0;32m    439\u001b[0m \u001b[39m@functools\u001b[39m\u001b[39m.\u001b[39mwraps(func)\n\u001b[0;32m    440\u001b[0m \u001b[39mdef\u001b[39;00m \u001b[39mwrapper\u001b[39m(\u001b[39m*\u001b[39margs: Any, \u001b[39m*\u001b[39m\u001b[39m*\u001b[39mkwargs: Any) \u001b[39m-\u001b[39m\u001b[39m>\u001b[39m Any:  \u001b[39m# type: ignore\u001b[39;00m\n\u001b[0;32m    441\u001b[0m     rename_kwargs(func\u001b[39m.\u001b[39m\u001b[39m__name__\u001b[39m, kwargs, aliases, fail\u001b[39m=\u001b[39m\u001b[39mTrue\u001b[39;00m)\n\u001b[1;32m--> 442\u001b[0m     \u001b[39mreturn\u001b[39;00m func(\u001b[39m*\u001b[39;49margs, \u001b[39m*\u001b[39;49m\u001b[39m*\u001b[39;49mkwargs)\n",
      "File \u001b[1;32mc:\\Users\\nfwya\\.conda\\envs\\vghkit\\Lib\\site-packages\\pypdf\\_merger.py:316\u001b[0m, in \u001b[0;36mPdfMerger.append\u001b[1;34m(self, fileobj, outline_item, pages, import_outline)\u001b[0m\n\u001b[0;32m    285\u001b[0m \u001b[39m@deprecation_bookmark\u001b[39m(bookmark\u001b[39m=\u001b[39m\u001b[39m\"\u001b[39m\u001b[39moutline_item\u001b[39m\u001b[39m\"\u001b[39m, import_bookmarks\u001b[39m=\u001b[39m\u001b[39m\"\u001b[39m\u001b[39mimport_outline\u001b[39m\u001b[39m\"\u001b[39m)\n\u001b[0;32m    286\u001b[0m \u001b[39mdef\u001b[39;00m \u001b[39mappend\u001b[39m(\n\u001b[0;32m    287\u001b[0m     \u001b[39mself\u001b[39m,\n\u001b[1;32m   (...)\u001b[0m\n\u001b[0;32m    293\u001b[0m     import_outline: \u001b[39mbool\u001b[39m \u001b[39m=\u001b[39m \u001b[39mTrue\u001b[39;00m,\n\u001b[0;32m    294\u001b[0m ) \u001b[39m-\u001b[39m\u001b[39m>\u001b[39m \u001b[39mNone\u001b[39;00m:\n\u001b[0;32m    295\u001b[0m \u001b[39m    \u001b[39m\u001b[39m\"\"\"\u001b[39;00m\n\u001b[0;32m    296\u001b[0m \u001b[39m    Identical to the :meth:`merge()<merge>` method, but assumes you want to\u001b[39;00m\n\u001b[0;32m    297\u001b[0m \u001b[39m    concatenate all pages onto the end of the file instead of specifying a\u001b[39;00m\n\u001b[1;32m   (...)\u001b[0m\n\u001b[0;32m    314\u001b[0m \u001b[39m            'bookmarks') from being imported by specifying this as ``False``.\u001b[39;00m\n\u001b[0;32m    315\u001b[0m \u001b[39m    \"\"\"\u001b[39;00m\n\u001b[1;32m--> 316\u001b[0m     \u001b[39mself\u001b[39;49m\u001b[39m.\u001b[39;49mmerge(\u001b[39mlen\u001b[39;49m(\u001b[39mself\u001b[39;49m\u001b[39m.\u001b[39;49mpages), fileobj, outline_item, pages, import_outline)\n",
      "File \u001b[1;32mc:\\Users\\nfwya\\.conda\\envs\\vghkit\\Lib\\site-packages\\pypdf\\_utils.py:442\u001b[0m, in \u001b[0;36mdeprecation_bookmark.<locals>.decoration.<locals>.wrapper\u001b[1;34m(*args, **kwargs)\u001b[0m\n\u001b[0;32m    439\u001b[0m \u001b[39m@functools\u001b[39m\u001b[39m.\u001b[39mwraps(func)\n\u001b[0;32m    440\u001b[0m \u001b[39mdef\u001b[39;00m \u001b[39mwrapper\u001b[39m(\u001b[39m*\u001b[39margs: Any, \u001b[39m*\u001b[39m\u001b[39m*\u001b[39mkwargs: Any) \u001b[39m-\u001b[39m\u001b[39m>\u001b[39m Any:  \u001b[39m# type: ignore\u001b[39;00m\n\u001b[0;32m    441\u001b[0m     rename_kwargs(func\u001b[39m.\u001b[39m\u001b[39m__name__\u001b[39m, kwargs, aliases, fail\u001b[39m=\u001b[39m\u001b[39mTrue\u001b[39;00m)\n\u001b[1;32m--> 442\u001b[0m     \u001b[39mreturn\u001b[39;00m func(\u001b[39m*\u001b[39;49margs, \u001b[39m*\u001b[39;49m\u001b[39m*\u001b[39;49mkwargs)\n",
      "File \u001b[1;32mc:\\Users\\nfwya\\.conda\\envs\\vghkit\\Lib\\site-packages\\pypdf\\_merger.py:193\u001b[0m, in \u001b[0;36mPdfMerger.merge\u001b[1;34m(self, page_number, fileobj, outline_item, pages, import_outline, position)\u001b[0m\n\u001b[0;32m    188\u001b[0m \u001b[39mif\u001b[39;00m fileobj \u001b[39mis\u001b[39;00m \u001b[39mNone\u001b[39;00m:  \u001b[39m# deprecated\u001b[39;00m\n\u001b[0;32m    189\u001b[0m     \u001b[39m# The argument is only Optional due to the deprecated position\u001b[39;00m\n\u001b[0;32m    190\u001b[0m     \u001b[39m# argument\u001b[39;00m\n\u001b[0;32m    191\u001b[0m     \u001b[39mraise\u001b[39;00m \u001b[39mValueError\u001b[39;00m(\u001b[39m\"\u001b[39m\u001b[39mfileobj may not be None\u001b[39m\u001b[39m\"\u001b[39m)\n\u001b[1;32m--> 193\u001b[0m stream, encryption_obj \u001b[39m=\u001b[39m \u001b[39mself\u001b[39;49m\u001b[39m.\u001b[39;49m_create_stream(fileobj)\n\u001b[0;32m    195\u001b[0m \u001b[39m# Create a new PdfReader instance using the stream\u001b[39;00m\n\u001b[0;32m    196\u001b[0m \u001b[39m# (either file or BytesIO or StringIO) created above\u001b[39;00m\n\u001b[0;32m    197\u001b[0m reader \u001b[39m=\u001b[39m PdfReader(stream, strict\u001b[39m=\u001b[39m\u001b[39mself\u001b[39m\u001b[39m.\u001b[39mstrict)  \u001b[39m# type: ignore[arg-type]\u001b[39;00m\n",
      "File \u001b[1;32mc:\\Users\\nfwya\\.conda\\envs\\vghkit\\Lib\\site-packages\\pypdf\\_merger.py:274\u001b[0m, in \u001b[0;36mPdfMerger._create_stream\u001b[1;34m(self, fileobj)\u001b[0m\n\u001b[0;32m    272\u001b[0m \u001b[39melif\u001b[39;00m \u001b[39mhasattr\u001b[39m(fileobj, \u001b[39m\"\u001b[39m\u001b[39mseek\u001b[39m\u001b[39m\"\u001b[39m) \u001b[39mand\u001b[39;00m \u001b[39mhasattr\u001b[39m(fileobj, \u001b[39m\"\u001b[39m\u001b[39mread\u001b[39m\u001b[39m\"\u001b[39m):\n\u001b[0;32m    273\u001b[0m     fileobj\u001b[39m.\u001b[39mseek(\u001b[39m0\u001b[39m)\n\u001b[1;32m--> 274\u001b[0m     file_content \u001b[39m=\u001b[39m fileobj\u001b[39m.\u001b[39;49mread()\n\u001b[0;32m    275\u001b[0m     stream \u001b[39m=\u001b[39m BytesIO(file_content)\n\u001b[0;32m    276\u001b[0m \u001b[39melse\u001b[39;00m:\n",
      "File \u001b[1;32m<frozen codecs>:322\u001b[0m, in \u001b[0;36mdecode\u001b[1;34m(self, input, final)\u001b[0m\n",
      "\u001b[1;31mUnicodeDecodeError\u001b[0m: 'utf-8' codec can't decode byte 0x93 in position 10: invalid start byte"
     ]
    }
   ],
   "source": [
    "pdf_folder = Path('preOPorderPDFs')\n",
    "pdf_paths = list(pdf_folder.glob('*.pdf')) \n",
    "\n",
    "merger = PdfMerger()\n",
    "\n",
    "for pdf_path in pdf_paths:\n",
    "    with pdf_path.open() as pdf_file:\n",
    "        merger.append(pdf_file)\n",
    "merger.write('result.pdf')\n",
    "merger.close()"
   ]
  }
 ],
 "metadata": {
  "kernelspec": {
   "display_name": "vghkit",
   "language": "python",
   "name": "python3"
  },
  "language_info": {
   "codemirror_mode": {
    "name": "ipython",
    "version": 3
   },
   "file_extension": ".py",
   "mimetype": "text/x-python",
   "name": "python",
   "nbconvert_exporter": "python",
   "pygments_lexer": "ipython3",
   "version": "3.11.3"
  },
  "orig_nbformat": 4
 },
 "nbformat": 4,
 "nbformat_minor": 2
}
